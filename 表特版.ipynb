{
 "cells": [
  {
   "cell_type": "code",
   "execution_count": 12,
   "metadata": {},
   "outputs": [],
   "source": [
    "import requests\n",
    "from bs4 import BeautifulSoup\n",
    "from urllib.request import urlretrieve\n",
    "import re\n",
    "\n",
    "res=requests.get('https://www.ptt.cc/bbs/Beauty/index.html',cookies={'over18':'1'})\n",
    "soup=BeautifulSoup(res.text,'lxml')\n",
    "\n",
    "articles=soup.select('div.r-ent a')\n",
    "\n",
    "\n",
    "\n",
    "for article in articles:\n",
    "    url='https://www.ptt.cc' + article['href']\n",
    "    \n",
    "    res = requests.get(url,cookies={'over18':'1'})\n",
    "    soup=BeautifulSoup(res.text,'lxml')\n",
    "    \n",
    "    if len(soup.findAll('a',{'href':re.compile('https:\\/\\/i\\.imgur\\.com\\/.*')})) > 0:\n",
    "        for index,img_url in enumerate(soup.findAll('a',{'href': re.compile('https:\\/\\/i\\.imgur\\.com\\/.*')})):\n",
    "            \n",
    "            try:\n",
    "                urlretrieve(img_url['href'],'d:\\{}_{}.jpg'.format(article.text,index))\n",
    "                \n",
    "            except:\n",
    "                print('{} {}_{}.jpg 下載失敗!'.format(img_url['href'], article.text, index))"
   ]
  },
  {
   "cell_type": "code",
   "execution_count": null,
   "metadata": {},
   "outputs": [],
   "source": []
  }
 ],
 "metadata": {
  "kernelspec": {
   "display_name": "Python 3",
   "language": "python",
   "name": "python3"
  },
  "language_info": {
   "codemirror_mode": {
    "name": "ipython",
    "version": 3
   },
   "file_extension": ".py",
   "mimetype": "text/x-python",
   "name": "python",
   "nbconvert_exporter": "python",
   "pygments_lexer": "ipython3",
   "version": "3.7.0"
  }
 },
 "nbformat": 4,
 "nbformat_minor": 2
}
